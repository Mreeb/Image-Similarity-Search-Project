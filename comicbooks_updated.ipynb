{
  "cells": [
    {
      "cell_type": "markdown",
      "source": [
        "# COMBINING DATA"
      ],
      "metadata": {
        "id": "KASqWJadB81o"
      }
    },
    {
      "cell_type": "markdown",
      "source": [
        "USE ONLY WHEN NEEDED TO COMBINE THE FILES"
      ],
      "metadata": {
        "id": "2yh7o7i8G8sz"
      }
    },
    {
      "cell_type": "code",
      "source": [
        "import pandas as pd\n",
        "import glob\n",
        "\n",
        "# # Get a list of all Excel files with the specified naming pattern\n",
        "# dc_files = glob.glob(\"dc-main-series_*.xlsx\")\n",
        "# image_files = glob.glob(\"image-main-series_*.xlsx\")\n",
        "\n",
        "# # Initialize an empty DataFrame to store merged data\n",
        "# merged_data = pd.DataFrame()\n",
        "\n",
        "# for file in dc_files:\n",
        "#     df = pd.read_excel(file)\n",
        "#     merged_data = merged_data.append(df, ignore_index=True)\n",
        "\n",
        "# for file in image_files:\n",
        "#     df = pd.read_excel(file)\n",
        "#     merged_data = merged_data.append(df, ignore_index=True)\n",
        "# merged_data.to_excel(\"merged_file.xlsx\", index=False)\n"
      ],
      "metadata": {
        "id": "elErZh7UB8Zk"
      },
      "execution_count": 29,
      "outputs": []
    },
    {
      "cell_type": "code",
      "source": [
        "data = pd.read_excel(\"merged_file.xlsx\")\n",
        "data"
      ],
      "metadata": {
        "colab": {
          "base_uri": "https://localhost:8080/",
          "height": 835
        },
        "id": "1t1giAaTNJh5",
        "outputId": "93ef3e02-5500-4458-ae3a-54a648e23f12"
      },
      "execution_count": 30,
      "outputs": [
        {
          "output_type": "execute_result",
          "data": {
            "text/plain": [
              "                                        series_title issue_number  \\\n",
              "0      Batman: Battle For The Cowl - The Underground           #1   \n",
              "1                          Flashpoint: Reverse-Flash           #1   \n",
              "2        Green Lantern / Sentinel: Heart Of Darkness           #1   \n",
              "3        Green Lantern / Sentinel: Heart Of Darkness           #2   \n",
              "4        Green Lantern / Sentinel: Heart Of Darkness           #3   \n",
              "...                                              ...          ...   \n",
              "59858                          Fishflies (Fcbd 2023)           #1   \n",
              "59859                                      Ophiuchus           #1   \n",
              "59860                      Street Angel Vs Ninjatech           #1   \n",
              "59861                                  Me The People           #1   \n",
              "59862      Hack/Slash Deluxe Edition: The Crossovers           #1   \n",
              "\n",
              "      issue_comments issue_edition       published_date   comic_era  \\\n",
              "0                NaN           NaN  2009-06-01 00:00:00  Modern Age   \n",
              "1                NaN           NaN  2011-08-01 00:00:00  Modern Age   \n",
              "2                NaN           NaN  1998-03-01 00:00:00  Modern Age   \n",
              "3                NaN           NaN  1998-04-01 00:00:00  Modern Age   \n",
              "4                NaN           NaN  1998-05-01 00:00:00  Modern Age   \n",
              "...              ...           ...                  ...         ...   \n",
              "59858            NaN           NaN         2023-Current  Modern Age   \n",
              "59859            NaN           NaN                 2019  Modern Age   \n",
              "59860            NaN           NaN                 2018  Modern Age   \n",
              "59861            NaN           NaN                 2018  Modern Age   \n",
              "59862            NaN           NaN  2022-10-01 00:00:00  Modern Age   \n",
              "\n",
              "                                             issue_image  \\\n",
              "0      https://comicspriceguide.com/image/ulstm/wowvi...   \n",
              "1      https://comicspriceguide.com/image/tluvh/yhwth...   \n",
              "2      https://comicspriceguide.com/image/pivvh/pbxwn...   \n",
              "3      https://comicspriceguide.com/image/pivvh/pbxwn...   \n",
              "4      https://comicspriceguide.com/image/pivvh/pbxwn...   \n",
              "...                                                  ...   \n",
              "59858  https://comicspriceguide.com/image/phuwby/piqx...   \n",
              "59859  https://comicspriceguide.com/image/pkspip/pkwvcxp   \n",
              "59860  https://comicspriceguide.com/image/pjxxny/pkutiqq   \n",
              "59861  https://comicspriceguide.com/image/pjxwmq/pkuriuu   \n",
              "59862  https://comicspriceguide.com/image/phstkv/phyr...   \n",
              "\n",
              "                                         issue_image_url  \n",
              "0        https://comicspriceguide.com/image/ulstm/wowvix  \n",
              "1        https://comicspriceguide.com/image/tluvh/yhwthw  \n",
              "2        https://comicspriceguide.com/image/pivvh/pbxwnw  \n",
              "3        https://comicspriceguide.com/image/pivvh/pbxwnv  \n",
              "4        https://comicspriceguide.com/image/pivvh/pbxwny  \n",
              "...                                                  ...  \n",
              "59858  https://comicspriceguide.com/image/phuwby/piqxiqs  \n",
              "59859  https://comicspriceguide.com/image/pkspip/pkwvcxp  \n",
              "59860  https://comicspriceguide.com/image/pjxxny/pkutiqq  \n",
              "59861  https://comicspriceguide.com/image/pjxwmq/pkuriuu  \n",
              "59862  https://comicspriceguide.com/image/phstkv/phyrisv  \n",
              "\n",
              "[59863 rows x 8 columns]"
            ],
            "text/html": [
              "\n",
              "  <div id=\"df-6eb2ca0d-add1-46f5-bab9-2a2c55b84052\">\n",
              "    <div class=\"colab-df-container\">\n",
              "      <div>\n",
              "<style scoped>\n",
              "    .dataframe tbody tr th:only-of-type {\n",
              "        vertical-align: middle;\n",
              "    }\n",
              "\n",
              "    .dataframe tbody tr th {\n",
              "        vertical-align: top;\n",
              "    }\n",
              "\n",
              "    .dataframe thead th {\n",
              "        text-align: right;\n",
              "    }\n",
              "</style>\n",
              "<table border=\"1\" class=\"dataframe\">\n",
              "  <thead>\n",
              "    <tr style=\"text-align: right;\">\n",
              "      <th></th>\n",
              "      <th>series_title</th>\n",
              "      <th>issue_number</th>\n",
              "      <th>issue_comments</th>\n",
              "      <th>issue_edition</th>\n",
              "      <th>published_date</th>\n",
              "      <th>comic_era</th>\n",
              "      <th>issue_image</th>\n",
              "      <th>issue_image_url</th>\n",
              "    </tr>\n",
              "  </thead>\n",
              "  <tbody>\n",
              "    <tr>\n",
              "      <th>0</th>\n",
              "      <td>Batman: Battle For The Cowl - The Underground</td>\n",
              "      <td>#1</td>\n",
              "      <td>NaN</td>\n",
              "      <td>NaN</td>\n",
              "      <td>2009-06-01 00:00:00</td>\n",
              "      <td>Modern Age</td>\n",
              "      <td>https://comicspriceguide.com/image/ulstm/wowvi...</td>\n",
              "      <td>https://comicspriceguide.com/image/ulstm/wowvix</td>\n",
              "    </tr>\n",
              "    <tr>\n",
              "      <th>1</th>\n",
              "      <td>Flashpoint: Reverse-Flash</td>\n",
              "      <td>#1</td>\n",
              "      <td>NaN</td>\n",
              "      <td>NaN</td>\n",
              "      <td>2011-08-01 00:00:00</td>\n",
              "      <td>Modern Age</td>\n",
              "      <td>https://comicspriceguide.com/image/tluvh/yhwth...</td>\n",
              "      <td>https://comicspriceguide.com/image/tluvh/yhwthw</td>\n",
              "    </tr>\n",
              "    <tr>\n",
              "      <th>2</th>\n",
              "      <td>Green Lantern / Sentinel: Heart Of Darkness</td>\n",
              "      <td>#1</td>\n",
              "      <td>NaN</td>\n",
              "      <td>NaN</td>\n",
              "      <td>1998-03-01 00:00:00</td>\n",
              "      <td>Modern Age</td>\n",
              "      <td>https://comicspriceguide.com/image/pivvh/pbxwn...</td>\n",
              "      <td>https://comicspriceguide.com/image/pivvh/pbxwnw</td>\n",
              "    </tr>\n",
              "    <tr>\n",
              "      <th>3</th>\n",
              "      <td>Green Lantern / Sentinel: Heart Of Darkness</td>\n",
              "      <td>#2</td>\n",
              "      <td>NaN</td>\n",
              "      <td>NaN</td>\n",
              "      <td>1998-04-01 00:00:00</td>\n",
              "      <td>Modern Age</td>\n",
              "      <td>https://comicspriceguide.com/image/pivvh/pbxwn...</td>\n",
              "      <td>https://comicspriceguide.com/image/pivvh/pbxwnv</td>\n",
              "    </tr>\n",
              "    <tr>\n",
              "      <th>4</th>\n",
              "      <td>Green Lantern / Sentinel: Heart Of Darkness</td>\n",
              "      <td>#3</td>\n",
              "      <td>NaN</td>\n",
              "      <td>NaN</td>\n",
              "      <td>1998-05-01 00:00:00</td>\n",
              "      <td>Modern Age</td>\n",
              "      <td>https://comicspriceguide.com/image/pivvh/pbxwn...</td>\n",
              "      <td>https://comicspriceguide.com/image/pivvh/pbxwny</td>\n",
              "    </tr>\n",
              "    <tr>\n",
              "      <th>...</th>\n",
              "      <td>...</td>\n",
              "      <td>...</td>\n",
              "      <td>...</td>\n",
              "      <td>...</td>\n",
              "      <td>...</td>\n",
              "      <td>...</td>\n",
              "      <td>...</td>\n",
              "      <td>...</td>\n",
              "    </tr>\n",
              "    <tr>\n",
              "      <th>59858</th>\n",
              "      <td>Fishflies (Fcbd 2023)</td>\n",
              "      <td>#1</td>\n",
              "      <td>NaN</td>\n",
              "      <td>NaN</td>\n",
              "      <td>2023-Current</td>\n",
              "      <td>Modern Age</td>\n",
              "      <td>https://comicspriceguide.com/image/phuwby/piqx...</td>\n",
              "      <td>https://comicspriceguide.com/image/phuwby/piqxiqs</td>\n",
              "    </tr>\n",
              "    <tr>\n",
              "      <th>59859</th>\n",
              "      <td>Ophiuchus</td>\n",
              "      <td>#1</td>\n",
              "      <td>NaN</td>\n",
              "      <td>NaN</td>\n",
              "      <td>2019</td>\n",
              "      <td>Modern Age</td>\n",
              "      <td>https://comicspriceguide.com/image/pkspip/pkwvcxp</td>\n",
              "      <td>https://comicspriceguide.com/image/pkspip/pkwvcxp</td>\n",
              "    </tr>\n",
              "    <tr>\n",
              "      <th>59860</th>\n",
              "      <td>Street Angel Vs Ninjatech</td>\n",
              "      <td>#1</td>\n",
              "      <td>NaN</td>\n",
              "      <td>NaN</td>\n",
              "      <td>2018</td>\n",
              "      <td>Modern Age</td>\n",
              "      <td>https://comicspriceguide.com/image/pjxxny/pkutiqq</td>\n",
              "      <td>https://comicspriceguide.com/image/pjxxny/pkutiqq</td>\n",
              "    </tr>\n",
              "    <tr>\n",
              "      <th>59861</th>\n",
              "      <td>Me The People</td>\n",
              "      <td>#1</td>\n",
              "      <td>NaN</td>\n",
              "      <td>NaN</td>\n",
              "      <td>2018</td>\n",
              "      <td>Modern Age</td>\n",
              "      <td>https://comicspriceguide.com/image/pjxwmq/pkuriuu</td>\n",
              "      <td>https://comicspriceguide.com/image/pjxwmq/pkuriuu</td>\n",
              "    </tr>\n",
              "    <tr>\n",
              "      <th>59862</th>\n",
              "      <td>Hack/Slash Deluxe Edition: The Crossovers</td>\n",
              "      <td>#1</td>\n",
              "      <td>NaN</td>\n",
              "      <td>NaN</td>\n",
              "      <td>2022-10-01 00:00:00</td>\n",
              "      <td>Modern Age</td>\n",
              "      <td>https://comicspriceguide.com/image/phstkv/phyr...</td>\n",
              "      <td>https://comicspriceguide.com/image/phstkv/phyrisv</td>\n",
              "    </tr>\n",
              "  </tbody>\n",
              "</table>\n",
              "<p>59863 rows × 8 columns</p>\n",
              "</div>\n",
              "      <button class=\"colab-df-convert\" onclick=\"convertToInteractive('df-6eb2ca0d-add1-46f5-bab9-2a2c55b84052')\"\n",
              "              title=\"Convert this dataframe to an interactive table.\"\n",
              "              style=\"display:none;\">\n",
              "        \n",
              "  <svg xmlns=\"http://www.w3.org/2000/svg\" height=\"24px\"viewBox=\"0 0 24 24\"\n",
              "       width=\"24px\">\n",
              "    <path d=\"M0 0h24v24H0V0z\" fill=\"none\"/>\n",
              "    <path d=\"M18.56 5.44l.94 2.06.94-2.06 2.06-.94-2.06-.94-.94-2.06-.94 2.06-2.06.94zm-11 1L8.5 8.5l.94-2.06 2.06-.94-2.06-.94L8.5 2.5l-.94 2.06-2.06.94zm10 10l.94 2.06.94-2.06 2.06-.94-2.06-.94-.94-2.06-.94 2.06-2.06.94z\"/><path d=\"M17.41 7.96l-1.37-1.37c-.4-.4-.92-.59-1.43-.59-.52 0-1.04.2-1.43.59L10.3 9.45l-7.72 7.72c-.78.78-.78 2.05 0 2.83L4 21.41c.39.39.9.59 1.41.59.51 0 1.02-.2 1.41-.59l7.78-7.78 2.81-2.81c.8-.78.8-2.07 0-2.86zM5.41 20L4 18.59l7.72-7.72 1.47 1.35L5.41 20z\"/>\n",
              "  </svg>\n",
              "      </button>\n",
              "      \n",
              "  <style>\n",
              "    .colab-df-container {\n",
              "      display:flex;\n",
              "      flex-wrap:wrap;\n",
              "      gap: 12px;\n",
              "    }\n",
              "\n",
              "    .colab-df-convert {\n",
              "      background-color: #E8F0FE;\n",
              "      border: none;\n",
              "      border-radius: 50%;\n",
              "      cursor: pointer;\n",
              "      display: none;\n",
              "      fill: #1967D2;\n",
              "      height: 32px;\n",
              "      padding: 0 0 0 0;\n",
              "      width: 32px;\n",
              "    }\n",
              "\n",
              "    .colab-df-convert:hover {\n",
              "      background-color: #E2EBFA;\n",
              "      box-shadow: 0px 1px 2px rgba(60, 64, 67, 0.3), 0px 1px 3px 1px rgba(60, 64, 67, 0.15);\n",
              "      fill: #174EA6;\n",
              "    }\n",
              "\n",
              "    [theme=dark] .colab-df-convert {\n",
              "      background-color: #3B4455;\n",
              "      fill: #D2E3FC;\n",
              "    }\n",
              "\n",
              "    [theme=dark] .colab-df-convert:hover {\n",
              "      background-color: #434B5C;\n",
              "      box-shadow: 0px 1px 3px 1px rgba(0, 0, 0, 0.15);\n",
              "      filter: drop-shadow(0px 1px 2px rgba(0, 0, 0, 0.3));\n",
              "      fill: #FFFFFF;\n",
              "    }\n",
              "  </style>\n",
              "\n",
              "      <script>\n",
              "        const buttonEl =\n",
              "          document.querySelector('#df-6eb2ca0d-add1-46f5-bab9-2a2c55b84052 button.colab-df-convert');\n",
              "        buttonEl.style.display =\n",
              "          google.colab.kernel.accessAllowed ? 'block' : 'none';\n",
              "\n",
              "        async function convertToInteractive(key) {\n",
              "          const element = document.querySelector('#df-6eb2ca0d-add1-46f5-bab9-2a2c55b84052');\n",
              "          const dataTable =\n",
              "            await google.colab.kernel.invokeFunction('convertToInteractive',\n",
              "                                                     [key], {});\n",
              "          if (!dataTable) return;\n",
              "\n",
              "          const docLinkHtml = 'Like what you see? Visit the ' +\n",
              "            '<a target=\"_blank\" href=https://colab.research.google.com/notebooks/data_table.ipynb>data table notebook</a>'\n",
              "            + ' to learn more about interactive tables.';\n",
              "          element.innerHTML = '';\n",
              "          dataTable['output_type'] = 'display_data';\n",
              "          await google.colab.output.renderOutput(dataTable, element);\n",
              "          const docLink = document.createElement('div');\n",
              "          docLink.innerHTML = docLinkHtml;\n",
              "          element.appendChild(docLink);\n",
              "        }\n",
              "      </script>\n",
              "    </div>\n",
              "  </div>\n",
              "  "
            ]
          },
          "metadata": {},
          "execution_count": 30
        }
      ]
    },
    {
      "cell_type": "code",
      "source": [
        "data.isna().sum()"
      ],
      "metadata": {
        "colab": {
          "base_uri": "https://localhost:8080/"
        },
        "id": "CgIW8NwQPJnc",
        "outputId": "b92e53a2-8b3f-4d7d-9ad4-d271fa483097"
      },
      "execution_count": 31,
      "outputs": [
        {
          "output_type": "execute_result",
          "data": {
            "text/plain": [
              "series_title           0\n",
              "issue_number           0\n",
              "issue_comments     39426\n",
              "issue_edition      45210\n",
              "published_date         0\n",
              "comic_era              0\n",
              "issue_image            0\n",
              "issue_image_url        0\n",
              "dtype: int64"
            ]
          },
          "metadata": {},
          "execution_count": 31
        }
      ]
    },
    {
      "cell_type": "code",
      "source": [
        "data.describe()"
      ],
      "metadata": {
        "colab": {
          "base_uri": "https://localhost:8080/",
          "height": 274
        },
        "id": "90966baZPaen",
        "outputId": "aedc504c-8cb4-4db4-d387-5beab7dd29a6"
      },
      "execution_count": 32,
      "outputs": [
        {
          "output_type": "execute_result",
          "data": {
            "text/plain": [
              "       series_title issue_number                         issue_comments  \\\n",
              "count         59863        59863                                  20437   \n",
              "unique         2895         5512                                  12008   \n",
              "top          Batman           #1  Polybagged Digital Combo Pack Variant   \n",
              "freq           2089         2916                                    286   \n",
              "\n",
              "         issue_edition published_date   comic_era  \\\n",
              "count            14653          59863       59863   \n",
              "unique               3           1506           5   \n",
              "top     DIRECT EDITION      1952-1977  Modern Age   \n",
              "freq              8252            240       39143   \n",
              "\n",
              "                                             issue_image  \\\n",
              "count                                              59863   \n",
              "unique                                             59304   \n",
              "top     https://comicspriceguide.com/img/missing_thm.jpg   \n",
              "freq                                                 477   \n",
              "\n",
              "                                         issue_image_url  \n",
              "count                                              59863  \n",
              "unique                                             59304  \n",
              "top     https://comicspriceguide.com/img/missing_lrg.jpg  \n",
              "freq                                                 477  "
            ],
            "text/html": [
              "\n",
              "  <div id=\"df-379ac6de-6e64-40ab-92f6-dbf4df39abdc\">\n",
              "    <div class=\"colab-df-container\">\n",
              "      <div>\n",
              "<style scoped>\n",
              "    .dataframe tbody tr th:only-of-type {\n",
              "        vertical-align: middle;\n",
              "    }\n",
              "\n",
              "    .dataframe tbody tr th {\n",
              "        vertical-align: top;\n",
              "    }\n",
              "\n",
              "    .dataframe thead th {\n",
              "        text-align: right;\n",
              "    }\n",
              "</style>\n",
              "<table border=\"1\" class=\"dataframe\">\n",
              "  <thead>\n",
              "    <tr style=\"text-align: right;\">\n",
              "      <th></th>\n",
              "      <th>series_title</th>\n",
              "      <th>issue_number</th>\n",
              "      <th>issue_comments</th>\n",
              "      <th>issue_edition</th>\n",
              "      <th>published_date</th>\n",
              "      <th>comic_era</th>\n",
              "      <th>issue_image</th>\n",
              "      <th>issue_image_url</th>\n",
              "    </tr>\n",
              "  </thead>\n",
              "  <tbody>\n",
              "    <tr>\n",
              "      <th>count</th>\n",
              "      <td>59863</td>\n",
              "      <td>59863</td>\n",
              "      <td>20437</td>\n",
              "      <td>14653</td>\n",
              "      <td>59863</td>\n",
              "      <td>59863</td>\n",
              "      <td>59863</td>\n",
              "      <td>59863</td>\n",
              "    </tr>\n",
              "    <tr>\n",
              "      <th>unique</th>\n",
              "      <td>2895</td>\n",
              "      <td>5512</td>\n",
              "      <td>12008</td>\n",
              "      <td>3</td>\n",
              "      <td>1506</td>\n",
              "      <td>5</td>\n",
              "      <td>59304</td>\n",
              "      <td>59304</td>\n",
              "    </tr>\n",
              "    <tr>\n",
              "      <th>top</th>\n",
              "      <td>Batman</td>\n",
              "      <td>#1</td>\n",
              "      <td>Polybagged Digital Combo Pack Variant</td>\n",
              "      <td>DIRECT EDITION</td>\n",
              "      <td>1952-1977</td>\n",
              "      <td>Modern Age</td>\n",
              "      <td>https://comicspriceguide.com/img/missing_thm.jpg</td>\n",
              "      <td>https://comicspriceguide.com/img/missing_lrg.jpg</td>\n",
              "    </tr>\n",
              "    <tr>\n",
              "      <th>freq</th>\n",
              "      <td>2089</td>\n",
              "      <td>2916</td>\n",
              "      <td>286</td>\n",
              "      <td>8252</td>\n",
              "      <td>240</td>\n",
              "      <td>39143</td>\n",
              "      <td>477</td>\n",
              "      <td>477</td>\n",
              "    </tr>\n",
              "  </tbody>\n",
              "</table>\n",
              "</div>\n",
              "      <button class=\"colab-df-convert\" onclick=\"convertToInteractive('df-379ac6de-6e64-40ab-92f6-dbf4df39abdc')\"\n",
              "              title=\"Convert this dataframe to an interactive table.\"\n",
              "              style=\"display:none;\">\n",
              "        \n",
              "  <svg xmlns=\"http://www.w3.org/2000/svg\" height=\"24px\"viewBox=\"0 0 24 24\"\n",
              "       width=\"24px\">\n",
              "    <path d=\"M0 0h24v24H0V0z\" fill=\"none\"/>\n",
              "    <path d=\"M18.56 5.44l.94 2.06.94-2.06 2.06-.94-2.06-.94-.94-2.06-.94 2.06-2.06.94zm-11 1L8.5 8.5l.94-2.06 2.06-.94-2.06-.94L8.5 2.5l-.94 2.06-2.06.94zm10 10l.94 2.06.94-2.06 2.06-.94-2.06-.94-.94-2.06-.94 2.06-2.06.94z\"/><path d=\"M17.41 7.96l-1.37-1.37c-.4-.4-.92-.59-1.43-.59-.52 0-1.04.2-1.43.59L10.3 9.45l-7.72 7.72c-.78.78-.78 2.05 0 2.83L4 21.41c.39.39.9.59 1.41.59.51 0 1.02-.2 1.41-.59l7.78-7.78 2.81-2.81c.8-.78.8-2.07 0-2.86zM5.41 20L4 18.59l7.72-7.72 1.47 1.35L5.41 20z\"/>\n",
              "  </svg>\n",
              "      </button>\n",
              "      \n",
              "  <style>\n",
              "    .colab-df-container {\n",
              "      display:flex;\n",
              "      flex-wrap:wrap;\n",
              "      gap: 12px;\n",
              "    }\n",
              "\n",
              "    .colab-df-convert {\n",
              "      background-color: #E8F0FE;\n",
              "      border: none;\n",
              "      border-radius: 50%;\n",
              "      cursor: pointer;\n",
              "      display: none;\n",
              "      fill: #1967D2;\n",
              "      height: 32px;\n",
              "      padding: 0 0 0 0;\n",
              "      width: 32px;\n",
              "    }\n",
              "\n",
              "    .colab-df-convert:hover {\n",
              "      background-color: #E2EBFA;\n",
              "      box-shadow: 0px 1px 2px rgba(60, 64, 67, 0.3), 0px 1px 3px 1px rgba(60, 64, 67, 0.15);\n",
              "      fill: #174EA6;\n",
              "    }\n",
              "\n",
              "    [theme=dark] .colab-df-convert {\n",
              "      background-color: #3B4455;\n",
              "      fill: #D2E3FC;\n",
              "    }\n",
              "\n",
              "    [theme=dark] .colab-df-convert:hover {\n",
              "      background-color: #434B5C;\n",
              "      box-shadow: 0px 1px 3px 1px rgba(0, 0, 0, 0.15);\n",
              "      filter: drop-shadow(0px 1px 2px rgba(0, 0, 0, 0.3));\n",
              "      fill: #FFFFFF;\n",
              "    }\n",
              "  </style>\n",
              "\n",
              "      <script>\n",
              "        const buttonEl =\n",
              "          document.querySelector('#df-379ac6de-6e64-40ab-92f6-dbf4df39abdc button.colab-df-convert');\n",
              "        buttonEl.style.display =\n",
              "          google.colab.kernel.accessAllowed ? 'block' : 'none';\n",
              "\n",
              "        async function convertToInteractive(key) {\n",
              "          const element = document.querySelector('#df-379ac6de-6e64-40ab-92f6-dbf4df39abdc');\n",
              "          const dataTable =\n",
              "            await google.colab.kernel.invokeFunction('convertToInteractive',\n",
              "                                                     [key], {});\n",
              "          if (!dataTable) return;\n",
              "\n",
              "          const docLinkHtml = 'Like what you see? Visit the ' +\n",
              "            '<a target=\"_blank\" href=https://colab.research.google.com/notebooks/data_table.ipynb>data table notebook</a>'\n",
              "            + ' to learn more about interactive tables.';\n",
              "          element.innerHTML = '';\n",
              "          dataTable['output_type'] = 'display_data';\n",
              "          await google.colab.output.renderOutput(dataTable, element);\n",
              "          const docLink = document.createElement('div');\n",
              "          docLink.innerHTML = docLinkHtml;\n",
              "          element.appendChild(docLink);\n",
              "        }\n",
              "      </script>\n",
              "    </div>\n",
              "  </div>\n",
              "  "
            ]
          },
          "metadata": {},
          "execution_count": 32
        }
      ]
    },
    {
      "cell_type": "code",
      "source": [
        "duplicate_rows = data[data.duplicated()]\n",
        "data = data.drop_duplicates()"
      ],
      "metadata": {
        "id": "scxIk8LgPeoD"
      },
      "execution_count": 33,
      "outputs": []
    },
    {
      "cell_type": "markdown",
      "source": [
        "# CLEAN IMAGE URLs"
      ],
      "metadata": {
        "id": "jWP-d--6Q5PB"
      }
    },
    {
      "cell_type": "code",
      "source": [
        "# image_urls = data['issue_image_url']\n",
        "# data['image_download_error'] = False\n",
        "# for i, url in enumerate(image_urls):\n",
        "#     try:\n",
        "#         req = urllib.request.urlopen(url)\n",
        "#         arr = np.asarray(bytearray(req.read()), dtype=np.uint8)\n",
        "#         img = cv2.imdecode(arr, -1)\n",
        "#     except:\n",
        "#         data.loc[i, 'image_download_error'] = True\n",
        "# data = data[data['image_download_error'] == False].drop(columns='image_download_error')"
      ],
      "metadata": {
        "id": "CGmi6pxcQ4W4"
      },
      "execution_count": 34,
      "outputs": []
    },
    {
      "cell_type": "markdown",
      "metadata": {
        "id": "ZfJnCqB4EHTf"
      },
      "source": [
        "# UPDATED"
      ]
    },
    {
      "cell_type": "code",
      "execution_count": 35,
      "metadata": {
        "id": "RkTP4SHWBNq9"
      },
      "outputs": [],
      "source": [
        "import pandas as pd\n",
        "import urllib.request\n",
        "import numpy as np\n",
        "import cv2\n",
        "import os\n",
        "from sklearn.feature_extraction import image\n",
        "from sklearn.neighbors import NearestNeighbors\n",
        "import tensorflow as tf\n",
        "import tensorflow_hub as hub"
      ]
    },
    {
      "cell_type": "code",
      "source": [
        "# Load the CSV file\n",
        "excel_file_path = \"merged_file.xlsx\"\n",
        "data = pd.read_excel(excel_file_path)\n",
        "\n",
        "# Get the image URLs and details from the Excel\n",
        "image_urls = data['issue_image_url']\n",
        "image_attributes = data[['series_title', 'issue_number', 'issue_comments', 'issue_edition', 'published_date', 'comic_era', 'issue_image', 'issue_image_url']]"
      ],
      "metadata": {
        "id": "LHFaCeJqKpjw"
      },
      "execution_count": 36,
      "outputs": []
    },
    {
      "cell_type": "code",
      "source": [
        "def preprocess_images(image_urls, image_attributes, save_directory):\n",
        "    images = []\n",
        "    filenames = []\n",
        "    image_paths = []\n",
        "\n",
        "    dropped_rows = []\n",
        "\n",
        "    for i, url in enumerate(image_urls):\n",
        "        try:\n",
        "            req = urllib.request.urlopen(url)\n",
        "            arr = np.asarray(bytearray(req.read()), dtype=np.uint8)\n",
        "            img = cv2.imdecode(arr, -1)\n",
        "            img = cv2.cvtColor(img, cv2.COLOR_BGR2RGB)\n",
        "            img = cv2.resize(img, (224, 224))\n",
        "            images.append(img)\n",
        "            filename = str(i+1)\n",
        "            filenames.append(filename)\n",
        "            image_path = os.path.join(save_directory, f\"preprocessed_{filename}.jpg\")\n",
        "            cv2.imwrite(image_path, img)\n",
        "            image_paths.append(image_path)\n",
        "            print(f\"Downloaded and processed image {i+1} of {len(image_urls)}\")\n",
        "        except:\n",
        "            print(f\"Error downloading image {i+1}\")\n",
        "            dropped_rows.append(i)\n",
        "\n",
        "    # Drop rows with image download errors\n",
        "    image_urls = image_urls.drop(dropped_rows)\n",
        "    image_attributes = image_attributes.drop(dropped_rows)\n",
        "\n",
        "    # Create a DataFrame with image details\n",
        "    image_details = pd.DataFrame({\n",
        "        'Filename': filenames,\n",
        "        'Image_Path': image_paths\n",
        "    })\n",
        "    image_details = pd.concat([image_details, image_attributes], axis=1)\n",
        "\n",
        "    # Save image details to a CSV file\n",
        "    csv_path = os.path.join(save_directory, 'Final.csv')\n",
        "    image_details.to_csv(csv_path, index=False)\n",
        "    print(f\"Preprocessed image details saved to: {csv_path}\")\n",
        "\n",
        "    return images, filenames, image_paths, image_urls, image_attributes\n"
      ],
      "metadata": {
        "id": "itEu9n1MKvUx"
      },
      "execution_count": 38,
      "outputs": []
    },
    {
      "cell_type": "code",
      "source": [
        "# Specify the directory to save the preprocessed images and CSV file\n",
        "save_directory = \"Final\"\n",
        "\n",
        "# Create the save directory if it doesn't exist\n",
        "os.makedirs(save_directory, exist_ok=True)\n",
        "\n",
        "# Download and preprocess the database images, and save details to CSV\n",
        "images, filenames, image_paths, image_urls, image_attributes = preprocess_images(image_urls, image_attributes, save_directory)"
      ],
      "metadata": {
        "id": "Tr0Xh-mpK1vf",
        "colab": {
          "base_uri": "https://localhost:8080/"
        },
        "outputId": "39b151ad-e482-4c7b-8824-9a77e155bd27"
      },
      "execution_count": 39,
      "outputs": [
        {
          "output_type": "stream",
          "name": "stdout",
          "text": [
            "Downloaded and processed image 1 of 10\n",
            "Downloaded and processed image 2 of 10\n",
            "Downloaded and processed image 3 of 10\n",
            "Downloaded and processed image 4 of 10\n",
            "Downloaded and processed image 5 of 10\n",
            "Downloaded and processed image 6 of 10\n",
            "Downloaded and processed image 7 of 10\n",
            "Downloaded and processed image 8 of 10\n",
            "Downloaded and processed image 9 of 10\n",
            "Downloaded and processed image 10 of 10\n",
            "Preprocessed image details saved to: Final/Final.csv\n"
          ]
        }
      ]
    },
    {
      "cell_type": "markdown",
      "source": [
        "## TO CONVERT TO ZIP"
      ],
      "metadata": {
        "id": "mcZClxQlHSRF"
      }
    },
    {
      "cell_type": "code",
      "source": [
        "import zipfile\n",
        "import os\n",
        "\n",
        "def create_zip(folder_path, zip_path):\n",
        "    # Create a ZIP file\n",
        "    with zipfile.ZipFile(zip_path, 'w', zipfile.ZIP_DEFLATED) as zipf:\n",
        "        # Iterate over all files and subdirectories in the folder\n",
        "        for root, _, files in os.walk(folder_path):\n",
        "            for file in files:\n",
        "                # Get the full path of the file\n",
        "                file_path = os.path.join(root, file)\n",
        "\n",
        "                # Add the file to the ZIP\n",
        "                zipf.write(file_path, os.path.relpath(file_path, folder_path))\n",
        "\n",
        "# Specify the folder path and ZIP file path\n",
        "folder_path = '/content/Final'  # Replace with your folder path\n",
        "zip_path = '/content/Final.zip'  # Replace with the desired ZIP file path\n",
        "\n",
        "# Create the ZIP file\n",
        "create_zip(folder_path, zip_path)\n"
      ],
      "metadata": {
        "id": "1pf6xSmjS5bC"
      },
      "execution_count": 40,
      "outputs": []
    },
    {
      "cell_type": "code",
      "source": [
        "# def load_images_from_folder(folder_path):\n",
        "#     images = []\n",
        "#     for filename in os.listdir(folder_path):\n",
        "#         if filename.startswith(\"preprocessed_\"):\n",
        "#             img = cv2.imread(os.path.join(folder_path, filename))\n",
        "#             if img is not None:\n",
        "#                 images.append(img)\n",
        "#                 print(f\"Loaded_{filename}\")\n",
        "#     return images\n",
        "\n",
        "# # Folder path where the preprocessed images are stored\n",
        "# folder_path = \"Final\"\n",
        "\n",
        "# # Load the preprocessed images from the folder\n",
        "# images = load_images_from_folder(folder_path)"
      ],
      "metadata": {
        "id": "YapVQRwjbbE4",
        "colab": {
          "base_uri": "https://localhost:8080/"
        },
        "outputId": "1062670c-9bfb-42f2-f8d7-d727894150f7"
      },
      "execution_count": 11,
      "outputs": [
        {
          "output_type": "stream",
          "name": "stdout",
          "text": [
            "Loaded_preprocessed_7.jpg\n",
            "Loaded_preprocessed_5.jpg\n",
            "Loaded_preprocessed_4.jpg\n",
            "Loaded_preprocessed_1.jpg\n",
            "Loaded_preprocessed_10.jpg\n",
            "Loaded_preprocessed_3.jpg\n",
            "Loaded_preprocessed_6.jpg\n",
            "Loaded_preprocessed_9.jpg\n",
            "Loaded_preprocessed_8.jpg\n",
            "Loaded_preprocessed_2.jpg\n"
          ]
        }
      ]
    },
    {
      "cell_type": "code",
      "source": [
        "# images[0]"
      ],
      "metadata": {
        "id": "-MROmfYMcapc"
      },
      "execution_count": null,
      "outputs": []
    },
    {
      "cell_type": "code",
      "execution_count": 41,
      "metadata": {
        "id": "WPYY-rPLGCtr",
        "colab": {
          "base_uri": "https://localhost:8080/"
        },
        "outputId": "03ae7b47-76d3-4e7f-cb33-4eb2fe39aa1b"
      },
      "outputs": [
        {
          "output_type": "stream",
          "name": "stdout",
          "text": [
            "Similar Image 1: 1\n",
            "Attributes:\n",
            "series_title: Batman: Battle For The Cowl - The Underground\n",
            "issue_number: #1\n",
            "issue_comments: nan\n",
            "issue_edition: nan\n",
            "published_date: 2009-06-01 00:00:00\n",
            "comic_era: Modern Age\n",
            "issue_image: https://comicspriceguide.com/image/ulstm/wowvix/thm\n",
            "issue_image_url: https://comicspriceguide.com/image/ulstm/wowvix\n",
            "\n"
          ]
        },
        {
          "output_type": "stream",
          "name": "stderr",
          "text": [
            "<ipython-input-41-f6858ee4b65b>:26: FutureWarning: iteritems is deprecated and will be removed in a future version. Use .items instead.\n",
            "  for attr_name, attr_value in matched_attributes.iteritems():\n"
          ]
        }
      ],
      "source": [
        "def find_similar_images(query_image_path, images, filenames, attributes, k=1):\n",
        "    query_image = cv2.imread(query_image_path)\n",
        "    query_image = cv2.cvtColor(query_image, cv2.COLOR_BGR2RGB)\n",
        "    query_image = cv2.resize(query_image, (224, 224))\n",
        "    query_image = np.reshape(query_image, (1, -1))\n",
        "\n",
        "    reshaped_images = np.reshape(images, (len(images), -1))\n",
        "\n",
        "    nbrs = NearestNeighbors(n_neighbors=k).fit(reshaped_images)\n",
        "\n",
        "    # Save the NearestNeighbors model\n",
        "    joblib.dump(nbrs, 'nearest_neighbors_model.pkl')\n",
        "    # Load the NearestNeighbors model\n",
        "    nbrs = joblib.load('nearest_neighbors_model.pkl')\n",
        "\n",
        "\n",
        "    distances, indices = nbrs.kneighbors(query_image)\n",
        "\n",
        "    for i in range(k):\n",
        "        index = indices[0][i]\n",
        "        filename = filenames[index]\n",
        "        matched_attributes = attributes.iloc[index]\n",
        "\n",
        "        print(f\"Similar Image {i+1}: {filename}\")\n",
        "        print(\"Attributes:\")\n",
        "        for attr_name, attr_value in matched_attributes.iteritems():\n",
        "            print(f\"{attr_name}: {attr_value}\")\n",
        "        print()\n",
        "\n",
        "# data = pd.read_csv('Final.csv')\n",
        "# filenames = data['Filename']\n",
        "# image_attributes = data[['series_title', 'issue_number', 'issue_comments', 'issue_edition', 'published_date', 'comic_era', 'issue_image', 'issue_image_url']]\n",
        "\n",
        "# Find similar images and display attributes\n",
        "find_similar_images(\"img.jpg\", images, filenames, image_attributes)\n"
      ]
    },
    {
      "cell_type": "code",
      "source": [
        "import joblib\n",
        "\n",
        "def Load_model(images, k=1):\n",
        "\n",
        "    reshaped_images = np.reshape(images, (len(images), -1))\n",
        "    nbrs = NearestNeighbors(n_neighbors=k).fit(reshaped_images)\n",
        "    joblib.dump(nbrs, 'nearest_neighbors_model.pkl')\n",
        "\n",
        "Load_model(images)"
      ],
      "metadata": {
        "id": "3A7Ij1TikEF8"
      },
      "execution_count": 42,
      "outputs": []
    },
    {
      "cell_type": "code",
      "source": [
        "import pandas as pd\n",
        "import numpy as np\n",
        "import cv2\n",
        "import os\n",
        "from sklearn.neighbors import NearestNeighbors\n",
        "\n",
        "\n",
        "def find_similar_images(query_image_path, images, filenames, attributes, k=1):\n",
        "    query_image = cv2.imread(query_image_path)\n",
        "    query_image = cv2.cvtColor(query_image, cv2.COLOR_BGR2RGB)\n",
        "    query_image = cv2.resize(query_image, (224, 224))\n",
        "    query_image = np.reshape(query_image, (1, -1))\n",
        "\n",
        "    nbrs = joblib.load('nearest_neighbors_model.pkl')\n",
        "    distances, indices = nbrs.kneighbors(query_image)\n",
        "    print(distances)\n",
        "\n",
        "\n",
        "    for i in range(k):\n",
        "        index = indices[0][i]\n",
        "        filename = filenames[index]\n",
        "        matched_attributes = attributes.iloc[index]\n",
        "\n",
        "        print(f\"Similar Image: {filename}\")\n",
        "        print(\"Attributes:\")\n",
        "        for attr_name, attr_value in matched_attributes.iteritems():\n",
        "            print(f\"{attr_name}: {attr_value}\")\n",
        "        print()\n",
        "\n",
        "data = pd.read_csv('Final.csv')\n",
        "filenames = data['Filename']\n",
        "image_attributes = data[['series_title', 'issue_number', 'issue_comments', 'issue_edition', 'published_date', 'comic_era', 'issue_image', 'issue_image_url']]\n",
        "\n",
        "# Find similar images and display attributes\n",
        "find_similar_images(\"img.jpg\", images, filenames, image_attributes)\n"
      ],
      "metadata": {
        "id": "Vz7UZ0s1ZESq",
        "colab": {
          "base_uri": "https://localhost:8080/"
        },
        "outputId": "a60f3675-7adf-4dce-b4b3-94b78d6f0097"
      },
      "execution_count": 56,
      "outputs": [
        {
          "output_type": "stream",
          "name": "stdout",
          "text": [
            "[[0.]]\n",
            "Similar Image: 1\n",
            "Attributes:\n",
            "series_title: Batman: Battle For The Cowl - The Underground\n",
            "issue_number: #1\n",
            "issue_comments: nan\n",
            "issue_edition: nan\n",
            "published_date: 2009-06-01 00:00:00\n",
            "comic_era: Modern Age\n",
            "issue_image: https://comicspriceguide.com/image/ulstm/wowvix/thm\n",
            "issue_image_url: https://comicspriceguide.com/image/ulstm/wowvix\n",
            "\n"
          ]
        },
        {
          "output_type": "stream",
          "name": "stderr",
          "text": [
            "<ipython-input-56-e600833f181a>:26: FutureWarning: iteritems is deprecated and will be removed in a future version. Use .items instead.\n",
            "  for attr_name, attr_value in matched_attributes.iteritems():\n"
          ]
        }
      ]
    },
    {
      "cell_type": "code",
      "source": [
        "def find_similar_images(query_image_path, images, filenames, attributes, k=1, similarity_threshold=0.9):\n",
        "    query_image = cv2.imread(query_image_path)\n",
        "    query_image = cv2.cvtColor(query_image, cv2.COLOR_BGR2RGB)\n",
        "    query_image = cv2.resize(query_image, (224, 224))\n",
        "    query_image = np.reshape(query_image, (1, -1))\n",
        "\n",
        "    nbrs = joblib.load('nearest_neighbors_model.pkl')\n",
        "    distances, indices = nbrs.kneighbors(query_image)\n",
        "\n",
        "    for i in range(k):\n",
        "        distance = distances[0][i]\n",
        "        if distance >= similarity_threshold:\n",
        "            print(\"If Running\")\n",
        "            index = indices[0][i]\n",
        "            filename = filenames[index]\n",
        "            matched_attributes = attributes.iloc[index]\n",
        "\n",
        "            print(f\"Similar Image: {filename}\")\n",
        "            print(\"Attributes:\")\n",
        "            for attr_name, attr_value in matched_attributes.iteritems():\n",
        "                print(f\"{attr_name}: {attr_value}\")\n",
        "            print()\n",
        "\n",
        "        elif distances == [[0.]]:\n",
        "            print(\"Elseif Running\")\n",
        "            index = indices[0][i]\n",
        "            filename = filenames[index]\n",
        "            matched_attributes = attributes.iloc[index]\n",
        "\n",
        "            print(f\"Similar Image: {filename}\")\n",
        "            print(\"Attributes:\")\n",
        "            for attr_name, attr_value in matched_attributes.iteritems():\n",
        "                print(f\"{attr_name}: {attr_value}\")\n",
        "            print()\n",
        "        else:\n",
        "            print(\"Else Running\")\n",
        "            print(\"No nearest image found.\")\n",
        "\n",
        "data = pd.read_csv('Final.csv')\n",
        "filenames = data['Filename']\n",
        "image_attributes = data[['series_title', 'issue_number', 'issue_comments', 'issue_edition', 'published_date', 'comic_era', 'issue_image', 'issue_image_url']]\n",
        "\n",
        "# Find similar images and display attributes\n",
        "find_similar_images(\"imgtest.jpeg\", images, filenames, image_attributes, k=1, similarity_threshold=0.9)\n"
      ],
      "metadata": {
        "colab": {
          "base_uri": "https://localhost:8080/"
        },
        "id": "RMy_VHYHm8tE",
        "outputId": "d7134349-1c3e-456c-ddcd-8f5e160deda6"
      },
      "execution_count": 62,
      "outputs": [
        {
          "output_type": "stream",
          "name": "stdout",
          "text": [
            "If Running\n",
            "Similar Image: 1\n",
            "Attributes:\n",
            "series_title: Batman: Battle For The Cowl - The Underground\n",
            "issue_number: #1\n",
            "issue_comments: nan\n",
            "issue_edition: nan\n",
            "published_date: 2009-06-01 00:00:00\n",
            "comic_era: Modern Age\n",
            "issue_image: https://comicspriceguide.com/image/ulstm/wowvix/thm\n",
            "issue_image_url: https://comicspriceguide.com/image/ulstm/wowvix\n",
            "\n"
          ]
        },
        {
          "output_type": "stream",
          "name": "stderr",
          "text": [
            "<ipython-input-62-e5fc0ccd2d8e>:20: FutureWarning: iteritems is deprecated and will be removed in a future version. Use .items instead.\n",
            "  for attr_name, attr_value in matched_attributes.iteritems():\n"
          ]
        }
      ]
    },
    {
      "cell_type": "code",
      "source": [],
      "metadata": {
        "id": "dg5_1nr2qFoY"
      },
      "execution_count": null,
      "outputs": []
    }
  ],
  "metadata": {
    "colab": {
      "provenance": []
    },
    "kernelspec": {
      "display_name": "Python 3",
      "language": "python",
      "name": "python3"
    },
    "language_info": {
      "codemirror_mode": {
        "name": "ipython",
        "version": 3
      },
      "file_extension": ".py",
      "mimetype": "text/x-python",
      "name": "python",
      "nbconvert_exporter": "python",
      "pygments_lexer": "ipython3",
      "version": "3.10.10"
    }
  },
  "nbformat": 4,
  "nbformat_minor": 0
}